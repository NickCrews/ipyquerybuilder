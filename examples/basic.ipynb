{
 "cells": [
  {
   "cell_type": "code",
   "execution_count": 1,
   "metadata": {},
   "outputs": [
    {
     "data": {
      "application/vnd.jupyter.widget-view+json": {
       "model_id": "b1722a96477b4e9b9aa9327e2efb8c83",
       "version_major": 2,
       "version_minor": 0
      },
      "text/plain": [
       "QueryBuilder(show_not_toggle=True)"
      ]
     },
     "execution_count": 1,
     "metadata": {},
     "output_type": "execute_result"
    }
   ],
   "source": [
    "import ipyquerybuilder as iqb\n",
    "\n",
    "fields = [\n",
    "    iqb.Field(\n",
    "        name=\"firstName\",\n",
    "        label=\"First Name\",\n",
    "        value_editor_type=\"text\",\n",
    "    ),\n",
    "    iqb.Field(\n",
    "        name=\"instrument\",\n",
    "        label=\"Plays\",\n",
    "        value_editor_type=\"multiselect\",\n",
    "        values=[\"Guitar\", \"Drums\", \"Bass\", \"Other\"],\n",
    "    ),\n",
    "]\n",
    "starting_query = {\n",
    "    \"combinator\": \"and\",\n",
    "    \"rules\": [\n",
    "        {\"field\": \"firstName\", \"operator\": \"contains\", \"value\": \"Steve\"},\n",
    "        {\"field\": \"instrument\", \"operator\": \"in\", \"value\": \"Guitar\"},\n",
    "    ],\n",
    "}\n",
    "qb = iqb.QueryBuilder(fields=fields, query=starting_query)\n",
    "qb"
   ]
  },
  {
   "cell_type": "code",
   "execution_count": 2,
   "metadata": {},
   "outputs": [
    {
     "data": {
      "text/plain": [
       "{'combinator': 'and',\n",
       " 'rules': [{'field': 'firstName',\n",
       "   'operator': 'contains',\n",
       "   'value': 'Steve',\n",
       "   'id': '25b2495e-7037-44e1-a1ae-b072e0f7a955'},\n",
       "  {'field': 'instrument',\n",
       "   'operator': 'in',\n",
       "   'value': 'Guitar',\n",
       "   'id': '2c3eb8f7-5ed1-4fe2-ada4-e13e45d5797e'}],\n",
       " 'id': 'b06f2b14-0d86-4d2e-b260-4d59aab0229f'}"
      ]
     },
     "execution_count": 2,
     "metadata": {},
     "output_type": "execute_result"
    }
   ],
   "source": [
    "qb.query"
   ]
  }
 ],
 "metadata": {
  "kernelspec": {
   "display_name": ".venv",
   "language": "python",
   "name": "python3"
  },
  "language_info": {
   "codemirror_mode": {
    "name": "ipython",
    "version": 3
   },
   "file_extension": ".py",
   "mimetype": "text/x-python",
   "name": "python",
   "nbconvert_exporter": "python",
   "pygments_lexer": "ipython3",
   "version": "3.11.6"
  }
 },
 "nbformat": 4,
 "nbformat_minor": 2
}
